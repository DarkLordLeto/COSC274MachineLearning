{
  "cells": [
    {
      "cell_type": "markdown",
      "source": [
        "# HW3\n"
      ],
      "metadata": {
        "id": "T4QpN207Fg5a"
      }
    },
    {
      "cell_type": "markdown",
      "metadata": {
        "id": "7flPLB_W_pRw"
      },
      "source": [
        "Please run the cell below to import libraries needed for this HW. Please use the autograd numpy, otherwise you will have issues. Please remember to always use the np library for mathematical functions (e.g., np.log, np.exp, np.sum, etc)"
      ]
    },
    {
      "cell_type": "code",
      "execution_count": 49,
      "metadata": {
        "id": "52dyLKp8_pRx"
      },
      "outputs": [],
      "source": [
        "import autograd.numpy as np\n",
        "from autograd import grad\n",
        "import matplotlib.pyplot as plt\n",
        "%matplotlib inline"
      ]
    },
    {
      "cell_type": "markdown",
      "metadata": {
        "id": "v8UJtvmB_pRy"
      },
      "source": [
        "Q1) [5 points] Implement the sigmod funcation discussed in class. The function takes a value, x, as input and returns the sigmoid function applied to the value."
      ]
    },
    {
      "cell_type": "code",
      "execution_count": 50,
      "metadata": {
        "id": "LKNQLImi_pRy"
      },
      "outputs": [],
      "source": [
        "def sigmoid(x):\n",
        "\n",
        "    y = 1 / (1 + np.exp(-x))\n",
        "    return y"
      ]
    },
    {
      "cell_type": "markdown",
      "metadata": {
        "id": "X-ft-9-B_pRy"
      },
      "source": [
        "Q2) [20 points] Implement the logistic regression model and the cross entropy cost discussed in class. Note that the logistic regression model relies on the sigmoid function (which you have implemented above) and the linear  model (which you have implemented in HW2). You can use the linear model from HW2 for this problem. Similar to the least-squares cost from HW2, the cross entropy cost takes in as input an array of weights, w, an array of x's and an array of ys and return a float indicating the total cost."
      ]
    },
    {
      "cell_type": "code",
      "execution_count": 51,
      "metadata": {
        "id": "FxFHCq6A_pRy"
      },
      "outputs": [],
      "source": [
        "#Your linear model from HW2\n",
        "def model(x,w):\n",
        "   # print(w.shape)\n",
        "    linear_model_output = w[0]+np.dot(w[1], x)\n",
        "    #y = sigmoid(linear_model_output)\n",
        "    return linear_model_output\n",
        "\n",
        "#The logistic regression cross entropy cost\n",
        "def cross_entropy(w,x,y):\n",
        "    m = len(x)  # Number of samples\n",
        "    prediction = sigmoid(model(x,w))\n",
        "    total_cost = np.sum(-y * np.log(prediction) - (1 - y) * np.log(1 - prediction))\n",
        "    #print(y.shape)\n",
        "\n",
        "    #for i in range(m):\n",
        "    #    prediction = model(x[i],w)\n",
        "        #print(prediction)\n",
        "     #   cost = -y[i] * np.log(prediction) - (1 - y[i]) * np.log(1 - prediction)\n",
        "     #   total_cost += cost\n",
        "    #cost = total_cost/m\n",
        "    return total_cost/m"
      ]
    },
    {
      "cell_type": "markdown",
      "metadata": {
        "id": "fb6514tF_pRy"
      },
      "source": [
        "Run the code below to read a data file and plot a scatter plot of x vs y."
      ]
    },
    {
      "cell_type": "code",
      "source": [
        "from google.colab import drive\n",
        "drive.mount('/content/gdrive')"
      ],
      "metadata": {
        "colab": {
          "base_uri": "https://localhost:8080/"
        },
        "id": "kJS-Rw5EeK-K",
        "outputId": "e4f3610a-71c5-412c-a270-c3d74db37293"
      },
      "execution_count": 52,
      "outputs": [
        {
          "output_type": "stream",
          "name": "stdout",
          "text": [
            "Drive already mounted at /content/gdrive; to attempt to forcibly remount, call drive.mount(\"/content/gdrive\", force_remount=True).\n"
          ]
        }
      ]
    },
    {
      "cell_type": "code",
      "execution_count": 53,
      "metadata": {
        "id": "IflAu39E_pRy",
        "colab": {
          "base_uri": "https://localhost:8080/",
          "height": 448
        },
        "outputId": "0b3acc03-544f-413f-b32e-3531e630cf5c"
      },
      "outputs": [
        {
          "output_type": "execute_result",
          "data": {
            "text/plain": [
              "<matplotlib.collections.PathCollection at 0x7fda87cf55a0>"
            ]
          },
          "metadata": {},
          "execution_count": 53
        },
        {
          "output_type": "display_data",
          "data": {
            "text/plain": [
              "<Figure size 640x480 with 1 Axes>"
            ],
            "image/png": "[encoded data removed]"
          },
          "metadata": {}
        }
      ],
      "source": [
        "csvname = '/content/gdrive/MyDrive/CS274/CS274H03/2d_classification_data_v1_entropy.csv'\n",
        "data = np.loadtxt(csvname,delimiter = ',')\n",
        "x = data[:-1,:][0]\n",
        "#print(x.shape)\n",
        "y = data[-1:,:][0]\n",
        "\n",
        "plt.scatter(x,y)"
      ]
    },
    {
      "cell_type": "markdown",
      "metadata": {
        "id": "OTVuxR0r_pRy"
      },
      "source": [
        "Q3) [10 points] Move the gradient descent function from HW2. Run the function using the cross_entropy cost and the x and y from above. The parameters should be set to: max_its=1500,w=[3.0,3.0 ], and alpha=1. Save the cost and weight history returned by the gradient descent function. Plot the cost history.\n"
      ]
    },
    {
      "cell_type": "code",
      "execution_count": 54,
      "metadata": {
        "id": "Uh_STKBu_pRy"
      },
      "outputs": [],
      "source": [
        "##gradient descent from HW2\n",
        "def gradient_descent(g,alpha,max_its,w,x,y):\n",
        "      ## This is how you use the autograd library to find the gradient of a function\n",
        "    ##Your code here\n",
        "    gradient = grad(g)\n",
        "    cost_history = []\n",
        "    weight_history = []\n",
        "    for i in range(max_its):\n",
        "      weight_history.append(w)\n",
        "      cost_history.append(g(w,x,y))\n",
        "      w = w-alpha*gradient(w,x,y)\n",
        "      #c = g(w,x,y)\n",
        "\n",
        "    return weight_history,cost_history\n",
        "\n"
      ]
    },
    {
      "cell_type": "code",
      "execution_count": 55,
      "metadata": {
        "id": "ddCJ7iBZ_pRz",
        "colab": {
          "base_uri": "https://localhost:8080/",
          "height": 430
        },
        "outputId": "e9f806da-a566-45ea-f3ad-62e04fd4c66b"
      },
      "outputs": [
        {
          "output_type": "display_data",
          "data": {
            "text/plain": [
              "<Figure size 640x480 with 1 Axes>"
            ],
            "image/png": "[encoded data removed]"
          },
          "metadata": {}
        }
      ],
      "source": [
        "w=np.array([3.0,3.0])\n",
        "##print(w.shape)\n",
        "wh, ch = gradient_descent(cross_entropy, 1, 1500, w, x, y)\n",
        "#print(history.shape)\n",
        "plt.plot(ch)\n",
        "plt.show()\n",
        "##Plot the cost history here"
      ]
    },
    {
      "cell_type": "markdown",
      "metadata": {
        "id": "xBgikNKF_pRz"
      },
      "source": [
        "Q4) [10 points] Implement a logistic regression classifier that takes in the learned weights and x as input and returns the probability of the positive class (note that this is just the output of the sigmoid applied to the linear combination of the x and w)"
      ]
    },
    {
      "cell_type": "code",
      "execution_count": 56,
      "metadata": {
        "id": "958J3ZPY_pRz"
      },
      "outputs": [],
      "source": [
        "def logistic_regression(learned_w,x):\n",
        "    #linear_combination = w[0]+np.dot(w[1], x)\n",
        "    positive_class_prob = sigmoid(model(x,learned_w))\n",
        "    return positive_class_prob"
      ]
    },
    {
      "cell_type": "markdown",
      "metadata": {
        "id": "dRqczx_B_pRz"
      },
      "source": [
        "Q5) [5 points] Use the learned weights from the last gradient descent run and the logistic regression function implemented above to plot the learned curve. You can use the linspace method (shown below) to generate a list of xs that you can use. You need to generate a y for each of the candidate xs using the logistic regression function and the learned weights. On the same figure, also plot the scatter plot from before.\n"
      ]
    },
    {
      "cell_type": "code",
      "execution_count": 57,
      "metadata": {
        "id": "CNMBKyh8_pRz",
        "colab": {
          "base_uri": "https://localhost:8080/",
          "height": 448
        },
        "outputId": "d7d8c6ca-740f-4df6-90ac-29eb7a48b7c4"
      },
      "outputs": [
        {
          "output_type": "stream",
          "name": "stdout",
          "text": [
            "0.0868394131319134\n"
          ]
        },
        {
          "output_type": "display_data",
          "data": {
            "text/plain": [
              "<Figure size 640x480 with 1 Axes>"
            ],
            "image/png": "[encoded data removed]"
          },
          "metadata": {}
        }
      ],
      "source": [
        "ind = ch.index(min(ch))\n",
        "print(min(ch))\n",
        "s = np.linspace(np.min(x),np.max(x))\n",
        "lrr = logistic_regression(wh[ind],s)\n",
        "#print(lrr)\n",
        "plt.xlim(0, 5)\n",
        "plt.plot(s.flatten(),lrr)\n",
        "plt.scatter(x,y)\n",
        "plt.show()\n",
        "#Your code here"
      ]
    },
    {
      "cell_type": "markdown",
      "metadata": {
        "id": "v46mI5OD_pRz"
      },
      "source": [
        "Q6) [5 points] Slightly modify the logistic regression model above so that it returns a 1 or 0 based on the specified threshold."
      ]
    },
    {
      "cell_type": "code",
      "execution_count": 58,
      "metadata": {
        "id": "h4Q_Rb89_pRz"
      },
      "outputs": [],
      "source": [
        "def logistic_regression_modified(learned_w,x, threshold):\n",
        "    positive_class_prob = sigmoid(model(x,learned_w))\n",
        "    class_label = []\n",
        "    for elmt in positive_class_prob:\n",
        "      if elmt<threshold:\n",
        "        class_label.append(0)\n",
        "      elif elmt>=threshold:\n",
        "        class_label.append(1)\n",
        "    class_label = np.array(class_label)\n",
        "    return class_label"
      ]
    },
    {
      "cell_type": "markdown",
      "metadata": {
        "id": "Suo1vYlo_pRz"
      },
      "source": [
        "Q7) [15 points] Write a function (called evaluate) that takes in actual and predicted ys (for a binary classification problem) and return a confusion matrix and the accuracy. Use the modified logistic regression model and the evaluate function below to report the confusion matrix and accuracy for the x and y used for our training at a threshold of 0.5.  "
      ]
    },
    {
      "cell_type": "code",
      "execution_count": 59,
      "metadata": {
        "id": "L3FaIpHI_pR0",
        "colab": {
          "base_uri": "https://localhost:8080/"
        },
        "outputId": "4713cdcc-fad4-4b43-bd07-8cea82939b8b"
      },
      "outputs": [
        {
          "output_type": "stream",
          "name": "stdout",
          "text": [
            "confusion matrix:  [[6 0]\n",
            " [0 5]]\n",
            "accuracy:  1.0\n"
          ]
        }
      ],
      "source": [
        "def evaluate(y_actual,y_pred):\n",
        "    false_positive = 0\n",
        "    false_negative = 0\n",
        "    true_positive = 0\n",
        "    true_negative = 0\n",
        "    for a, p in zip(y_actual, y_pred):\n",
        "        if a == 1 and p == 1:\n",
        "            true_positive += 1\n",
        "        elif a == 1 and p == 0:\n",
        "            false_negative += 1\n",
        "        elif a == 0 and p == 1:\n",
        "            false_positive += 1\n",
        "        elif a == 0 and p == 0:\n",
        "            true_negative += 1\n",
        "\n",
        "    # Calculate accuracy\n",
        "    total_predictions = len(y_actual)\n",
        "    accuracy = (true_positive + true_negative) / total_predictions\n",
        "    return false_positive, false_negative, true_positive, true_negative, accuracy\n",
        "\n",
        "y_p = logistic_regression_modified(wh[ind],x, 0.5)\n",
        "fp, fn, tp, tn, acc = evaluate(y,y_p)\n",
        "cm = np.array([[tp, fn], [fp, tn]])\n",
        "print(\"confusion matrix: \" , cm)\n",
        "print(\"accuracy: \", acc)\n",
        "\n"
      ]
    },
    {
      "cell_type": "markdown",
      "metadata": {
        "id": "ZVD4Z3Ub_pR0"
      },
      "source": [
        "Q8) [20 points] Implement the perceptron cost function from the class (the softmax version). Note that the perceptron cost also uses the linear model (the model function from question 2)."
      ]
    },
    {
      "cell_type": "code",
      "execution_count": 60,
      "metadata": {
        "id": "dxEGYSoP_pR0"
      },
      "outputs": [],
      "source": [
        "def perceptron_cost(w,x,y):\n",
        "   #Your code here\n",
        "  xt = x.transpose()\n",
        "  linear_model_output = model(xt,w)\n",
        "  ttlcost = 0\n",
        "  i = 0\n",
        "  l = y.size\n",
        "  cost = 0\n",
        "\n",
        "  #for elmts in linear_model_output:\n",
        "  cost=np.sum(np.log(1+ np.exp(linear_model_output * -y)) )\n",
        "    #i+=1\n",
        "\n",
        "  #cost = np.array(cost)\n",
        "  #print(cost)\n",
        "\n",
        "  return cost/l"
      ]
    },
    {
      "cell_type": "markdown",
      "metadata": {
        "id": "lhYnvgTY_pR0"
      },
      "source": [
        "Q9) [10 points]\n",
        "* Run gradient descent function using the perceptron cost and the x and y from above and the parameters set to: max_its=1500,w=[1.0,1.0], and alpha=1.0.\n",
        "* Save the cost and weight history returned by the gradient descent function.\n",
        "* Plot the cost history.\n",
        "* Answer: Which cost seems to do better on this dataset? Why do think that is?\n"
      ]
    },
    {
      "cell_type": "code",
      "execution_count": 61,
      "metadata": {
        "id": "877mY-4g_pR0",
        "colab": {
          "base_uri": "https://localhost:8080/",
          "height": 448
        },
        "outputId": "6741336e-f41f-43e9-9549-c34c46052fff"
      },
      "outputs": [
        {
          "output_type": "stream",
          "name": "stdout",
          "text": [
            "0.3153381030865214\n"
          ]
        },
        {
          "output_type": "display_data",
          "data": {
            "text/plain": [
              "<Figure size 640x480 with 1 Axes>"
            ],
            "image/png": "[encoded data removed]"
          },
          "metadata": {}
        }
      ],
      "source": [
        "##Call the gradient_descent function here\n",
        "w=np.array([1.0,1.0])\n",
        "wh, ch = gradient_descent(perceptron_cost, 1.0, 1500,w,x,y)\n",
        "print(min(ch))\n",
        "##Plot the cost history here\n",
        "plt.plot(ch)\n",
        "plt.show()"
      ]
    },
    {
      "cell_type": "code",
      "source": [
        "lw = wh[ch.index(min(ch))]\n",
        "evaluate(y,logistic_regression_modified(lw,x,0.5))"
      ],
      "metadata": {
        "colab": {
          "base_uri": "https://localhost:8080/"
        },
        "id": "sxxVje052gPF",
        "outputId": "9d9298ed-578e-4e05-c8a6-f09614d9620e"
      },
      "execution_count": 62,
      "outputs": [
        {
          "output_type": "execute_result",
          "data": {
            "text/plain": [
              "(5, 0, 6, 0, 0.5454545454545454)"
            ]
          },
          "metadata": {},
          "execution_count": 62
        }
      ]
    },
    {
      "cell_type": "code",
      "source": [
        "print(\"personally, I think the cross-entropy is better, since it have better accuracy(which probablly means it's more robust, also, it reaches a lower cost value and have a better convergence speed)\")"
      ],
      "metadata": {
        "colab": {
          "base_uri": "https://localhost:8080/"
        },
        "id": "WJI5MjN43B4o",
        "outputId": "04136b69-711c-4753-ad1b-51ef2fd187b7"
      },
      "execution_count": 63,
      "outputs": [
        {
          "output_type": "stream",
          "name": "stdout",
          "text": [
            "personally, I think the cross-entropy is better, since it have better accuracy(which probablly means it's more robust, also, it reaches a lower cost value and have a better convergence speed)\n"
          ]
        }
      ]
    },
    {
      "cell_type": "markdown",
      "metadata": {
        "id": "qGyY2koB_pR0"
      },
      "source": [
        "Q10) [11 points]  The file 'heart.csv' has 304 lines, each one corresponding to a data point. Each row (i.e., data point), has several columns.\n",
        "\n",
        "* Read the data file. (Note that the first line is the header describing each column.)\n",
        "* Use the data above to set y to be the \"target\" and X to be the remaining columns.\n",
        "* Split your data into 80% train 20% test using train_test_split.\n",
        "* Use sklearn to fit a logistic regression model on your training set. Use all the default parameters. Do not evaluate at this point. (You can find out about sklearn logistic regression here: https://scikit-learn.org/stable/modules/generated/sklearn.linear_model.LogisticRegression.html)"
      ]
    },
    {
      "cell_type": "code",
      "execution_count": 123,
      "metadata": {
        "id": "lJ6qvvgw_pR0",
        "colab": {
          "base_uri": "https://localhost:8080/"
        },
        "outputId": "969866c9-119e-44e4-b6c4-58fa0b1a2588"
      },
      "outputs": [
        {
          "output_type": "stream",
          "name": "stderr",
          "text": [
            "/usr/local/lib/python3.10/dist-packages/sklearn/linear_model/_logistic.py:458: ConvergenceWarning: lbfgs failed to converge (status=1):\n",
            "STOP: TOTAL NO. of ITERATIONS REACHED LIMIT.\n",
            "\n",
            "Increase the number of iterations (max_iter) or scale the data as shown in:\n",
            "    https://scikit-learn.org/stable/modules/preprocessing.html\n",
            "Please also refer to the documentation for alternative solver options:\n",
            "    https://scikit-learn.org/stable/modules/linear_model.html#logistic-regression\n",
            "  n_iter_i = _check_optimize_result(\n"
          ]
        }
      ],
      "source": [
        "from numpy.random import RandomState\n",
        "## import logistic regression and the train_test split functions from sklearn\n",
        "from sklearn.linear_model import LogisticRegression\n",
        "from sklearn.model_selection import train_test_split\n",
        "import pandas as pd\n",
        "\n",
        "train_data = pd.read_csv('/content/gdrive/MyDrive/CS274/CS274H03/heart.csv')\n",
        "y_val = train_data['target']\n",
        "train_data.drop(labels = ['target'], axis=1,inplace=True)\n",
        "X_val = train_data\n",
        "X_train, X_test, y_train, y_test = train_test_split(X_val, y_val, test_size=0.2,random_state = 5)\n",
        "clf = LogisticRegression().fit(X_train, y_train)\n",
        "\n",
        "##Your code here"
      ]
    },
    {
      "cell_type": "markdown",
      "metadata": {
        "id": "hFwuvl_W_pR1"
      },
      "source": [
        "Q11) [5 points] Use the .predict_proba function of the logistic regression model that you have learned on your X_test. Note that the .predict_proba function returns an array of tuples where each element corresponds to the predicted probability for class 0 and 1 of the data point."
      ]
    },
    {
      "cell_type": "code",
      "execution_count": 124,
      "metadata": {
        "id": "Fc94rZDs_pR2"
      },
      "outputs": [],
      "source": [
        "##Your code here\n",
        "#clf.predict(X_test)\n",
        "\n",
        "res = clf.predict_proba(X_test)\n",
        "#print(res)"
      ]
    },
    {
      "cell_type": "markdown",
      "metadata": {
        "id": "DdislPDJ_pR2"
      },
      "source": [
        "Q12) [12 points]\n",
        "\n",
        "Now you will report your results.\n",
        "\n",
        "* Filter the predicted probabilties from the last question to an array containing only the probabilites for class 1. (I.e., you should no longer have tuples.)\n",
        "* Use the roc_curve function from sklearn (https://scikit-learn.org/stable/modules/generated/sklearn.metrics.roc_curve.html) to plot the ROC curve for your predictions using the predicted probabilities for class 1 and your y_test (use the default parameters).\n",
        "* Print out the thresholds generated by the roc_curve function.\n",
        "* Use the roc_auc_score function from sklearn (https://scikit-learn.org/stable/modules/generated/sklearn.metrics.roc_auc_score.html#sklearn.metrics.roc_auc_score) to report the AUC score."
      ]
    },
    {
      "cell_type": "code",
      "execution_count": 125,
      "metadata": {
        "id": "Tkj9R0vZ_pR2",
        "colab": {
          "base_uri": "https://localhost:8080/",
          "height": 484
        },
        "outputId": "021eb808-4822-4109-fc73-d699c8b63157"
      },
      "outputs": [
        {
          "output_type": "stream",
          "name": "stdout",
          "text": [
            "[1.9909792  0.9909792  0.90588762 0.90579858 0.7298264  0.72523949\n",
            " 0.68015257 0.66275761 0.50453526 0.20514714 0.13854879 0.08662071\n",
            " 0.05846223 0.00306971]\n"
          ]
        },
        {
          "output_type": "display_data",
          "data": {
            "text/plain": [
              "<Figure size 640x480 with 1 Axes>"
            ],
            "image/png": "[encoded data removed]"
          },
          "metadata": {}
        }
      ],
      "source": [
        "##Your code here\n",
        "from sklearn import metrics\n",
        "c1p = []\n",
        "for ele in res:\n",
        "  c1p.append(ele[1])\n",
        "c1p = np.array(c1p)\n",
        "y_test = np.array(y_test)\n",
        "fpr, tpr, thresholds = metrics.roc_curve(y_test, c1p)\n",
        "plt.plot(fpr,tpr)\n",
        "plt.show\n",
        "print(thresholds)"
      ]
    },
    {
      "cell_type": "code",
      "source": [
        "##Your code here\n",
        "from sklearn.metrics import roc_auc_score\n",
        "ras = roc_auc_score(y_test, c1p)\n",
        "print(ras)"
      ],
      "metadata": {
        "id": "FApMfK7pFPE4",
        "colab": {
          "base_uri": "https://localhost:8080/"
        },
        "outputId": "ec75916b-546b-4463-9ed3-d5db3c835c33"
      },
      "execution_count": 126,
      "outputs": [
        {
          "output_type": "stream",
          "name": "stdout",
          "text": [
            "0.9408602150537635\n"
          ]
        }
      ]
    }
  ],
  "metadata": {
    "kernelspec": {
      "display_name": "Python 3 (ipykernel)",
      "language": "python",
      "name": "python3"
    },
    "language_info": {
      "codemirror_mode": {
        "name": "ipython",
        "version": 3
      },
      "file_extension": ".py",
      "mimetype": "text/x-python",
      "name": "python",
      "nbconvert_exporter": "python",
      "pygments_lexer": "ipython3",
      "version": "3.8.12"
    },
    "colab": {
      "provenance": []
    }
  },
  "nbformat": 4,
  "nbformat_minor": 0
}