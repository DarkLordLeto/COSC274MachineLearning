{
  "cells": [
    {
      "cell_type": "markdown",
      "metadata": {
        "id": "7nH7d2QIkBV4"
      },
      "source": [
        "# HW2  Regression Fun Time!"
      ]
    },
    {
      "cell_type": "markdown",
      "metadata": {
        "id": "0BMtn73EkBV5"
      },
      "source": [
        "Please run the cell below to import libraries needed for this HW. Please use the autograd numpy, otherwise you will have issues."
      ]
    },
    {
      "cell_type": "code",
      "execution_count": 16,
      "metadata": {
        "id": "1Dy9vEzJkBV6"
      },
      "outputs": [],
      "source": [
        "import autograd.numpy as np\n",
        "from autograd import grad\n",
        "import matplotlib.pyplot as plt\n",
        "%matplotlib inline\n"
      ]
    },
    {
      "cell_type": "markdown",
      "metadata": {
        "id": "k4Xi2yXOkBV6"
      },
      "source": [
        "Q1) **[10 points]**\n",
        "\n",
        "Implement the linear regression model discussed in class below. The function (called model) takes in an array of data points, x , and an array of weights, w, and returns a vector y_predicted containing the linear combination for each of the data points. This is the linear model we have discussed in class. You can assume each data point in x only has one feature.  The length of the vector being returned should be the same as x.\n"
      ]
    },
    {
      "cell_type": "code",
      "execution_count": 17,
      "metadata": {
        "id": "-oa8xQ7jkBV6"
      },
      "outputs": [],
      "source": [
        "def model(x,w):\n",
        "    y_predicted = []\n",
        "    y_predicted= w[0]+x * w[1]\n",
        "    return y_predicted"
      ]
    },
    {
      "cell_type": "markdown",
      "metadata": {
        "id": "MCEN69STkBV6"
      },
      "source": [
        "Q2) **[10 ponts]**\n",
        "\n",
        "Implement the least squares function discussed in class below. The function should take in an array of weights, w, an array of x's and an array of ys. It should use the model function implemented above and return a float indicating the total cost."
      ]
    },
    {
      "cell_type": "code",
      "execution_count": 18,
      "metadata": {
        "id": "o2qygqSMkBV6"
      },
      "outputs": [],
      "source": [
        "def least_squares(w,x,y):\n",
        "\n",
        "    y_p = model(x,w)\n",
        "    cost = np.mean((y-y_p)**2)\n",
        "    return cost"
      ]
    },
    {
      "cell_type": "markdown",
      "metadata": {
        "id": "zB4zhj3RkBV6"
      },
      "source": [
        "Q3) **[5 point]**\n",
        "\n",
        "This one is a freebie from HW1. Copy and paste your gradient descent function here. Specifically, the one that takes in the cost function as input and return the weight and cost history. We will be using a fixed alpha for this HW. The only difference is that this function should now also take in as input an array of x and ys, corresponding to our data. The w,x, and y are given as inputs to the cost funtion and its gradient."
      ]
    },
    {
      "cell_type": "code",
      "execution_count": 19,
      "metadata": {
        "id": "PIiL3QzFkBV7"
      },
      "outputs": [],
      "source": [
        "from autograd import grad\n",
        "\n",
        "#gradient descent function\n",
        "#inputs: g (cost function), alpha (learning rate parameter), max_its (maximum number of iterations), w (initialization)\n",
        "def gradient_descent(g,alpha,max_its,w,x,y):\n",
        "      ## This is how you use the autograd library to find the gradient of a function\n",
        "    ##Your code here\n",
        "    gradient = grad(g)\n",
        "    cost_history = []\n",
        "    weight_history = []\n",
        "    for i in range(max_its):\n",
        "      weight_history.append(w)\n",
        "      cost_history.append(g(w,x,y))\n",
        "      w = w-alpha*gradient(w,x,y)\n",
        "      #c = g(w,x,y)\n",
        "\n",
        "    return weight_history,cost_history"
      ]
    },
    {
      "cell_type": "markdown",
      "metadata": {
        "id": "-AV6sw45kBV7"
      },
      "source": [
        "Q4) **[1 points]**  \n",
        "Run the code below to import a dataset. Then, plot a scatter plot of the data (x vs y)."
      ]
    },
    {
      "cell_type": "code",
      "execution_count": 20,
      "metadata": {
        "id": "mHIKQBnikBV7",
        "colab": {
          "base_uri": "https://localhost:8080/"
        },
        "outputId": "5bb29c16-90f4-4d81-cc08-78007aaff6a6"
      },
      "outputs": [
        {
          "output_type": "stream",
          "name": "stdout",
          "text": [
            "Drive already mounted at /content/gdrive; to attempt to forcibly remount, call drive.mount(\"/content/gdrive\", force_remount=True).\n"
          ]
        }
      ],
      "source": [
        "from google.colab import drive\n",
        "drive.mount('/content/gdrive')\n",
        "# import the dataset\n",
        "## Carefully check the path\n",
        "csvname = '/content/gdrive/MyDrive/CS274/CS274H02/kleibers_law_data.csv'\n",
        "data = np.loadtxt(csvname,delimiter=',')\n",
        "x = np.log(data[:-1,:])\n",
        "y = np.log(data[-1:,:])\n",
        "#print(x)\n",
        "#print(y)\n"
      ]
    },
    {
      "cell_type": "code",
      "execution_count": 21,
      "metadata": {
        "id": "tOeXEK1-kBV7",
        "colab": {
          "base_uri": "https://localhost:8080/",
          "height": 449
        },
        "outputId": "bb1c614f-b8d4-4f54-f189-7f010c63a6d4"
      },
      "outputs": [
        {
          "output_type": "display_data",
          "data": {
            "text/plain": [
              "<Figure size 640x480 with 1 Axes>"
            ],
            "image/png": "[encoded data removed]"
          },
          "metadata": {}
        }
      ],
      "source": [
        "plt.scatter(x,y)\n",
        "plt.xlabel(\"x\")\n",
        "plt.ylabel(\"y\")\n",
        "plt.show()"
      ]
    },
    {
      "cell_type": "markdown",
      "metadata": {
        "id": "rbaQHly_kBV7"
      },
      "source": [
        "Q5) **[10 points]**\n",
        "\n",
        "[Part 1] Use your gradient descent function to learn a linear regression model for the x and y above using the following parameters and plot the cost_history over the 1000 iterations\n",
        "\n",
        "g = least_squares function you implemented\n",
        "\n",
        "w = [w_0, w_1]  , where w_0 and w_1 are random numbers between -0.1 and 0.1\n",
        "\n",
        "max_its=1000\n",
        "\n",
        "alpha=0.01"
      ]
    },
    {
      "cell_type": "code",
      "execution_count": 22,
      "metadata": {
        "id": "CVWMp82IkBV7"
      },
      "outputs": [],
      "source": [
        "import random\n",
        "\n",
        "w_0 = random.uniform(-0.1,0.1)\n",
        "w_1 = random.uniform(-0.1,0.1)\n",
        "w = np.array([w_0, w_1])\n",
        "#type(w)\n",
        "\n",
        "#grad_result = gradient_descent(least_squares,0.01,1000,w,x,y)"
      ]
    },
    {
      "cell_type": "code",
      "source": [
        "grad_result =gradient_descent(least_squares,0.01,1000,w,x,y)\n",
        "plt.plot(grad_result[1])\n",
        "plt.show"
      ],
      "metadata": {
        "id": "vWjQgT6EnIer",
        "colab": {
          "base_uri": "https://localhost:8080/",
          "height": 447
        },
        "outputId": "412ee8f8-2d48-43dd-bc8e-a3545c986142"
      },
      "execution_count": 24,
      "outputs": [
        {
          "output_type": "execute_result",
          "data": {
            "text/plain": [
              "<function matplotlib.pyplot.show(close=None, block=None)>"
            ]
          },
          "metadata": {},
          "execution_count": 24
        },
        {
          "output_type": "display_data",
          "data": {
            "text/plain": [
              "<Figure size 640x480 with 1 Axes>"
            ],
            "image/png": "[encoded data removed]"
          },
          "metadata": {}
        }
      ]
    },
    {
      "cell_type": "markdown",
      "metadata": {
        "id": "yKk6QQcxkBV7"
      },
      "source": [
        "Q5) [Part 2]\n",
        "\n",
        "Use the learned weights from above (note that the \"learned\" weights are the ones with the lowest cost) to plot the learned line. You can use the linspace method (shown below) to generate a list of xs that you can use for plotting. You need to generate a y for each of the candidate xs using the learned weights. On the same figure, also plot the scatter plot from Q4.\n"
      ]
    },
    {
      "cell_type": "code",
      "execution_count": 11,
      "metadata": {
        "id": "nxvZtvaKkBV7",
        "colab": {
          "base_uri": "https://localhost:8080/",
          "height": 449
        },
        "outputId": "79b1d850-1991-4d2f-8dc6-5d4b82c35f14"
      },
      "outputs": [
        {
          "output_type": "display_data",
          "data": {
            "text/plain": [
              "<Figure size 640x480 with 1 Axes>"
            ],
            "image/png": "[encoded data removed]"
          },
          "metadata": {}
        }
      ],
      "source": [
        "s = np.linspace(np.min(x),np.max(x))\n",
        "i = 0\n",
        "min_pos = np.argmin(grad_result[1])\n",
        "y_p = model(s,grad_result[0][min_pos])\n",
        "plt.plot(s, y_p)\n",
        "plt.scatter(x,y)\n",
        "plt.xlabel(\"x\")\n",
        "plt.ylabel(\"y\")\n",
        "plt.show()\n",
        "#Your code here"
      ]
    },
    {
      "cell_type": "markdown",
      "metadata": {
        "id": "IkQ9c5UDkBV7"
      },
      "source": [
        "Q6) **[1 points]**  \n",
        "\n",
        "Run the code below to import a dataset. Then, plot a scatter plot of the data (x vs y)."
      ]
    },
    {
      "cell_type": "code",
      "execution_count": 12,
      "metadata": {
        "id": "69-16xUzkBV7",
        "colab": {
          "base_uri": "https://localhost:8080/",
          "height": 430
        },
        "outputId": "1a6c8325-7c70-4fba-d573-1c86396efb81"
      },
      "outputs": [
        {
          "output_type": "display_data",
          "data": {
            "text/plain": [
              "<Figure size 640x480 with 1 Axes>"
            ],
            "image/png": "[encoded data removed]"
          },
          "metadata": {}
        }
      ],
      "source": [
        "# load in dataset\n",
        "data = np.loadtxt('/content/gdrive/MyDrive/CS274/CS274H02/regression_outliers.csv',delimiter = ',')\n",
        "x = data[:-1,:]\n",
        "y = data[-1:,:]\n",
        "#Your code here\n",
        "plt.scatter(x,y)\n",
        "plt.show()"
      ]
    },
    {
      "cell_type": "markdown",
      "metadata": {
        "id": "JB96CkjHkBV7"
      },
      "source": [
        "Q7) **[10 ponts]**\n",
        "\n",
        " Implement the least absolute deviations function discussed in class. The function should take in an array of weights, w, an array of x's and an array of ys. It should use the model function implemented in Q1  and return a float indicating the total cost."
      ]
    },
    {
      "cell_type": "code",
      "execution_count": 13,
      "metadata": {
        "id": "T8TDcEMzkBV7"
      },
      "outputs": [],
      "source": [
        "def least_absolute_deviations(w,x,y):\n",
        "    y_predicted = model(x, w)\n",
        "\n",
        "\n",
        "    cost = np.sum(np.abs(y - y_predicted))/(y.shape[1])\n",
        "\n",
        "\n",
        "    return cost"
      ]
    },
    {
      "cell_type": "markdown",
      "metadata": {
        "id": "8n5jlQuCkBV7"
      },
      "source": [
        " Q8) **[10 points]**\n",
        "\n",
        "[Part 1] Use the gradient descent function twice to learn two linear models using the new x and y from Q6 using the following parameters and plot the cost_history for both runs on the same plot. Make the plot for the first run blue and the plot for the second run red.\n",
        "\n",
        "Run 1)\n",
        "g = least_squares function\n",
        "\n",
        "w = [1.0,1.0]\n",
        "\n",
        "max_its=100\n",
        "\n",
        "alpha=0.1\n",
        "\n",
        "Run 2)\n",
        "g = least_absoulte_deviations\n",
        "\n",
        "w = [1.0,1.0]\n",
        "\n",
        "max_its=100\n",
        "\n",
        "alpha=0.1\n"
      ]
    },
    {
      "cell_type": "code",
      "source": [
        "w = np.array([1.0,1.0])\n",
        "grad_result0 =gradient_descent(least_squares,0.1,100,w,x,y)\n",
        "grad_result1 =gradient_descent(least_absolute_deviations,0.1,100,w,x,y)\n",
        "plt.plot(grad_result0[1], color = \"blue\")\n",
        "plt.plot(grad_result1[1], color = \"red\")\n",
        "plt.show()"
      ],
      "metadata": {
        "id": "3Pw5Sbjj0qSd",
        "colab": {
          "base_uri": "https://localhost:8080/",
          "height": 430
        },
        "outputId": "a72bbca7-3d96-4b24-e9f8-5cee4c6cdb2a"
      },
      "execution_count": 14,
      "outputs": [
        {
          "output_type": "display_data",
          "data": {
            "text/plain": [
              "<Figure size 640x480 with 1 Axes>"
            ],
            "image/png": "[encoded data removed]"
          },
          "metadata": {}
        }
      ]
    },
    {
      "cell_type": "markdown",
      "metadata": {
        "id": "-esXBxqWkBV7"
      },
      "source": [
        "Q8) **[Part 2]**\n",
        "\n",
        " Use the learned weights from above to plot the two learned lines (use same colors as above). You can use the linspace method again to generate a list of xs that you can use. On the same figure, also plot the scatter plot from Q6. Which of these lines look like a better fit to you?\n"
      ]
    },
    {
      "cell_type": "code",
      "execution_count": null,
      "metadata": {
        "id": "gw-rgSDgkBV8",
        "colab": {
          "base_uri": "https://localhost:8080/",
          "height": 466
        },
        "outputId": "6244b399-03c5-46d8-fcd6-a50ff7b8b321"
      },
      "outputs": [
        {
          "output_type": "display_data",
          "data": {
            "text/plain": [
              "<Figure size 640x480 with 1 Axes>"
            ],
            "image/png": "[encoded data removed]"
          },
          "metadata": {}
        },
        {
          "output_type": "stream",
          "name": "stdout",
          "text": [
            "Personally, I think the least squares one look linke a better fit\n"
          ]
        }
      ],
      "source": [
        "s = np.linspace(np.min(x),np.max(x), num=10)\n",
        "min_pos0 = np.argmin(grad_result0[1])\n",
        "min_pos1 = np.argmin(grad_result1[1])\n",
        "y_p0 = model(s,grad_result0[0][min_pos0])\n",
        "min_pos1 = np.argmin(grad_result1[1])\n",
        "y_p1 = model(s,grad_result1[0][min_pos1])\n",
        "plt.plot(s, y_p0)\n",
        "plt.plot(s, y_p1)\n",
        "plt.scatter(x,y)\n",
        "plt.xlabel(\"x\")\n",
        "plt.ylabel(\"y\")\n",
        "plt.show()\n",
        "print(\"Personally, I think the least squares one look linke a better fit\")"
      ]
    },
    {
      "cell_type": "markdown",
      "metadata": {
        "id": "ncokUyn-kBV8"
      },
      "source": [
        "Q9) **[10 points]**\n",
        "\n",
        "[Part 1] Implement the mean squared error (MSE) and the mean absolute deviation functions from class. The functions should take in as input an array of actual ys and an array of predicted ys and return the prediction error."
      ]
    },
    {
      "cell_type": "code",
      "execution_count": null,
      "metadata": {
        "id": "dPIA63CwkBV8"
      },
      "outputs": [],
      "source": [
        "def MSE(y_actual,y_pred):\n",
        "\n",
        "    error = np.mean((y_actual - y_pred)**2)\n",
        "    return error\n",
        "\n",
        "def MAD(y_actual,y_pred):\n",
        "    error =  np.mean(np.abs(y_actual - y_pred))\n",
        "    return error"
      ]
    },
    {
      "cell_type": "markdown",
      "metadata": {
        "id": "wqIypBsUkBV8"
      },
      "source": [
        "Q9) [Part 2]\n",
        "Use the functions above to report the MSE and MAD for the two models learned in Q8 [Part 1], using the x and y from Q6. You should have 4 values total, two for each model. Which model is doing better? (Note that since you are evaluating the model on the training data, this corresponds to the training error)"
      ]
    },
    {
      "cell_type": "code",
      "execution_count": null,
      "metadata": {
        "id": "yxp_PfIKkBV8",
        "colab": {
          "base_uri": "https://localhost:8080/"
        },
        "outputId": "50e58157-1c0f-4669-9eae-6e34705b0461"
      },
      "outputs": [
        {
          "output_type": "stream",
          "name": "stdout",
          "text": [
            "20.05029994093431\n",
            "14.073191464484676\n",
            "3.2658482895752625\n",
            "2.0564103432189893\n",
            "I think the least_absolute_deviations model has less training error \n"
          ]
        }
      ],
      "source": [
        "mse0 = MSE(y[0],y_p0)\n",
        "mse1 = MSE(y[0],y_p1)\n",
        "mad0 = MAD(y[0],y_p0)\n",
        "mad1 = MAD(y[0],y_p1)\n",
        "print(mse0)\n",
        "print(mse1)\n",
        "print(mad0)\n",
        "print(mad1)\n",
        "print(\"I think the least_absolute_deviations model has less training error \")"
      ]
    },
    {
      "cell_type": "markdown",
      "metadata": {
        "id": "du6x8r80kBV8"
      },
      "source": [
        "Q10) **[6 points]**\n",
        "\n",
        " Implement the L1 and L2 regularizers from class. Recall the regularizers take in input the weight vector and return a score based on the L1 or L2 norm of the weights"
      ]
    },
    {
      "cell_type": "code",
      "execution_count": null,
      "metadata": {
        "id": "Yq9t2AFgkBV8"
      },
      "outputs": [],
      "source": [
        "def L2_regularizer(w):\n",
        "  L2 = np.sum(w**2)\n",
        "  #L2 = w[1]*L2n\n",
        "  return L2\n",
        "\n",
        "def L1_regularizer(w):\n",
        "  L1 = np.sum(np.abs(w))\n",
        "  #L1 = w[1]*L1n\n",
        "  return L1"
      ]
    },
    {
      "cell_type": "markdown",
      "metadata": {
        "id": "rz7SmsPGkBV8"
      },
      "source": [
        "Q11) **[12 points]**\n",
        "\n",
        "Turn the least squares function implemented in Q2 into the Ridge (L2) and Lasso (L1) least squares (covered in class) using the functions implemented in Q10. Recall that $\\lambda$ is used as a hyperparameter to specify the smoothness of the function learned (higher $\\lambda$ leads to simpler and smoother functions whereas lower $\\lambda$ leads to better fitting to the data. $\\lambda=0$ is the same as non-regularized least-squares)"
      ]
    },
    {
      "cell_type": "code",
      "execution_count": null,
      "metadata": {
        "id": "bNvTD0MnkBV8"
      },
      "outputs": [],
      "source": [
        "def ridge(w,x,y,lmbda):\n",
        "    y_p = model(x, w)\n",
        "    mse = MSE(y,y_p)\n",
        "    l2r = L2_regularizer(w)*lmbda\n",
        "    cost = mse + l2r\n",
        "    return cost\n",
        "\n",
        "def lasso(w,x,y,lmbda):\n",
        "    y_p = model(x, w)\n",
        "    mse = MSE(y,y_p)\n",
        "    l1r = L1_regularizer(w)*lmbda\n",
        "    cost = mse + l1r\n",
        "    return cost"
      ]
    },
    {
      "cell_type": "markdown",
      "metadata": {
        "id": "KYQe_LtloqME"
      },
      "source": [
        "## For the remaining questions we will work with `weatherHistory.csv` dataset"
      ]
    },
    {
      "cell_type": "markdown",
      "metadata": {
        "id": "wtedowknkBV8"
      },
      "source": [
        "The file 'weatherHistory.csv'has 96,454 lines, each one corresponding to a data point. Each row (i.e., data point), has several columns. Read the data file. Note that the first line is the header describing each column."
      ]
    },
    {
      "cell_type": "code",
      "execution_count": null,
      "metadata": {
        "id": "mlagemJikBV8"
      },
      "outputs": [],
      "source": [
        "\n",
        "import pandas as pd\n",
        "train=pd.read_csv('/content/gdrive/MyDrive/CS274/CS274H02/weatherHistory.csv')\n",
        "\n"
      ]
    },
    {
      "cell_type": "markdown",
      "metadata": {
        "id": "BhEVKhbEkBV8"
      },
      "source": [
        " Use the data above to set y to be the temperatures and X to be the following columns (in order): [Apparent_Temperature, Humidity, Wind_Speed, Wind_Bearing, Visibility, Pressure] Basically, we want to see whether we can predict the temperature, using the features in X."
      ]
    },
    {
      "cell_type": "code",
      "execution_count": null,
      "metadata": {
        "id": "H2J0qIxbkBV8",
        "colab": {
          "base_uri": "https://localhost:8080/"
        },
        "outputId": "6aacaf04-2388-491a-f056-fdbd059a9d2b"
      },
      "outputs": [
        {
          "output_type": "execute_result",
          "data": {
            "text/plain": [
              "0    9.472222\n",
              "1    9.355556\n",
              "2    9.377778\n",
              "3    8.288889\n",
              "4    8.755556\n",
              "Name: Temperature, dtype: float64"
            ]
          },
          "metadata": {},
          "execution_count": 161
        }
      ],
      "source": [
        "y =  train[\"Temperature\"]\n",
        "X = train[[\"Apparent_Temperature\", \"Humidity\", \"Wind_Speed\", \"Wind_Bearing\", \"Visibility\", \"Pressure\"]]\n",
        "y.head()\n"
      ]
    },
    {
      "cell_type": "code",
      "source": [
        "\n",
        "X.head()"
      ],
      "metadata": {
        "colab": {
          "base_uri": "https://localhost:8080/",
          "height": 206
        },
        "id": "Mpz6N3ubqBxZ",
        "outputId": "769f29cc-1430-4cbc-b798-df9871c8bf05"
      },
      "execution_count": null,
      "outputs": [
        {
          "output_type": "execute_result",
          "data": {
            "text/plain": [
              "   Apparent_Temperature  Humidity  Wind_Speed  Wind_Bearing  Visibility  \\\n",
              "0              7.388889      0.89     14.1197         251.0     15.8263   \n",
              "1              7.227778      0.86     14.2646         259.0     15.8263   \n",
              "2              9.377778      0.89      3.9284         204.0     14.9569   \n",
              "3              5.944444      0.83     14.1036         269.0     15.8263   \n",
              "4              6.977778      0.83     11.0446         259.0     15.8263   \n",
              "\n",
              "   Pressure  \n",
              "0   1015.13  \n",
              "1   1015.63  \n",
              "2   1015.94  \n",
              "3   1016.41  \n",
              "4   1016.51  "
            ],
            "text/html": [
              "\n",
              "  <div id=\"df-d71a8564-27c2-4d45-a6ea-35035fcbaefd\" class=\"colab-df-container\">\n",
              "    <div>\n",
              "<style scoped>\n",
              "    .dataframe tbody tr th:only-of-type {\n",
              "        vertical-align: middle;\n",
              "    }\n",
              "\n",
              "    .dataframe tbody tr th {\n",
              "        vertical-align: top;\n",
              "    }\n",
              "\n",
              "    .dataframe thead th {\n",
              "        text-align: right;\n",
              "    }\n",
              "</style>\n",
              "<table border=\"1\" class=\"dataframe\">\n",
              "  <thead>\n",
              "    <tr style=\"text-align: right;\">\n",
              "      <th></th>\n",
              "      <th>Apparent_Temperature</th>\n",
              "      <th>Humidity</th>\n",
              "      <th>Wind_Speed</th>\n",
              "      <th>Wind_Bearing</th>\n",
              "      <th>Visibility</th>\n",
              "      <th>Pressure</th>\n",
              "    </tr>\n",
              "  </thead>\n",
              "  <tbody>\n",
              "    <tr>\n",
              "      <th>0</th>\n",
              "      <td>7.388889</td>\n",
              "      <td>0.89</td>\n",
              "      <td>14.1197</td>\n",
              "      <td>251.0</td>\n",
              "      <td>15.8263</td>\n",
              "      <td>1015.13</td>\n",
              "    </tr>\n",
              "    <tr>\n",
              "      <th>1</th>\n",
              "      <td>7.227778</td>\n",
              "      <td>0.86</td>\n",
              "      <td>14.2646</td>\n",
              "      <td>259.0</td>\n",
              "      <td>15.8263</td>\n",
              "      <td>1015.63</td>\n",
              "    </tr>\n",
              "    <tr>\n",
              "      <th>2</th>\n",
              "      <td>9.377778</td>\n",
              "      <td>0.89</td>\n",
              "      <td>3.9284</td>\n",
              "      <td>204.0</td>\n",
              "      <td>14.9569</td>\n",
              "      <td>1015.94</td>\n",
              "    </tr>\n",
              "    <tr>\n",
              "      <th>3</th>\n",
              "      <td>5.944444</td>\n",
              "      <td>0.83</td>\n",
              "      <td>14.1036</td>\n",
              "      <td>269.0</td>\n",
              "      <td>15.8263</td>\n",
              "      <td>1016.41</td>\n",
              "    </tr>\n",
              "    <tr>\n",
              "      <th>4</th>\n",
              "      <td>6.977778</td>\n",
              "      <td>0.83</td>\n",
              "      <td>11.0446</td>\n",
              "      <td>259.0</td>\n",
              "      <td>15.8263</td>\n",
              "      <td>1016.51</td>\n",
              "    </tr>\n",
              "  </tbody>\n",
              "</table>\n",
              "</div>\n",
              "    <div class=\"colab-df-buttons\">\n",
              "\n",
              "  <div class=\"colab-df-container\">\n",
              "    <button class=\"colab-df-convert\" onclick=\"convertToInteractive('df-d71a8564-27c2-4d45-a6ea-35035fcbaefd')\"\n",
              "            title=\"Convert this dataframe to an interactive table.\"\n",
              "            style=\"display:none;\">\n",
              "\n",
              "  <svg xmlns=\"http://www.w3.org/2000/svg\" height=\"24px\" viewBox=\"0 -960 960 960\">\n",
              "    <path d=\"M120-120v-720h720v720H120Zm60-500h600v-160H180v160Zm220 220h160v-160H400v160Zm0 220h160v-160H400v160ZM180-400h160v-160H180v160Zm440 0h160v-160H620v160ZM180-180h160v-160H180v160Zm440 0h160v-160H620v160Z\"/>\n",
              "  </svg>\n",
              "    </button>\n",
              "\n",
              "  <style>\n",
              "    .colab-df-container {\n",
              "      display:flex;\n",
              "      gap: 12px;\n",
              "    }\n",
              "\n",
              "    .colab-df-convert {\n",
              "      background-color: #E8F0FE;\n",
              "      border: none;\n",
              "      border-radius: 50%;\n",
              "      cursor: pointer;\n",
              "      display: none;\n",
              "      fill: #1967D2;\n",
              "      height: 32px;\n",
              "      padding: 0 0 0 0;\n",
              "      width: 32px;\n",
              "    }\n",
              "\n",
              "    .colab-df-convert:hover {\n",
              "      background-color: #E2EBFA;\n",
              "      box-shadow: 0px 1px 2px rgba(60, 64, 67, 0.3), 0px 1px 3px 1px rgba(60, 64, 67, 0.15);\n",
              "      fill: #174EA6;\n",
              "    }\n",
              "\n",
              "    .colab-df-buttons div {\n",
              "      margin-bottom: 4px;\n",
              "    }\n",
              "\n",
              "    [theme=dark] .colab-df-convert {\n",
              "      background-color: #3B4455;\n",
              "      fill: #D2E3FC;\n",
              "    }\n",
              "\n",
              "    [theme=dark] .colab-df-convert:hover {\n",
              "      background-color: #434B5C;\n",
              "      box-shadow: 0px 1px 3px 1px rgba(0, 0, 0, 0.15);\n",
              "      filter: drop-shadow(0px 1px 2px rgba(0, 0, 0, 0.3));\n",
              "      fill: #FFFFFF;\n",
              "    }\n",
              "  </style>\n",
              "\n",
              "    <script>\n",
              "      const buttonEl =\n",
              "        document.querySelector('#df-d71a8564-27c2-4d45-a6ea-35035fcbaefd button.colab-df-convert');\n",
              "      buttonEl.style.display =\n",
              "        google.colab.kernel.accessAllowed ? 'block' : 'none';\n",
              "\n",
              "      async function convertToInteractive(key) {\n",
              "        const element = document.querySelector('#df-d71a8564-27c2-4d45-a6ea-35035fcbaefd');\n",
              "        const dataTable =\n",
              "          await google.colab.kernel.invokeFunction('convertToInteractive',\n",
              "                                                    [key], {});\n",
              "        if (!dataTable) return;\n",
              "\n",
              "        const docLinkHtml = 'Like what you see? Visit the ' +\n",
              "          '<a target=\"_blank\" href=https://colab.research.google.com/notebooks/data_table.ipynb>data table notebook</a>'\n",
              "          + ' to learn more about interactive tables.';\n",
              "        element.innerHTML = '';\n",
              "        dataTable['output_type'] = 'display_data';\n",
              "        await google.colab.output.renderOutput(dataTable, element);\n",
              "        const docLink = document.createElement('div');\n",
              "        docLink.innerHTML = docLinkHtml;\n",
              "        element.appendChild(docLink);\n",
              "      }\n",
              "    </script>\n",
              "  </div>\n",
              "\n",
              "\n",
              "<div id=\"df-7d637c21-eb19-47d4-a6c1-ed7e50a8ae6f\">\n",
              "  <button class=\"colab-df-quickchart\" onclick=\"quickchart('df-7d637c21-eb19-47d4-a6c1-ed7e50a8ae6f')\"\n",
              "            title=\"Suggest charts.\"\n",
              "            style=\"display:none;\">\n",
              "\n",
              "<svg xmlns=\"http://www.w3.org/2000/svg\" height=\"24px\"viewBox=\"0 0 24 24\"\n",
              "     width=\"24px\">\n",
              "    <g>\n",
              "        <path d=\"M19 3H5c-1.1 0-2 .9-2 2v14c0 1.1.9 2 2 2h14c1.1 0 2-.9 2-2V5c0-1.1-.9-2-2-2zM9 17H7v-7h2v7zm4 0h-2V7h2v10zm4 0h-2v-4h2v4z\"/>\n",
              "    </g>\n",
              "</svg>\n",
              "  </button>\n",
              "\n",
              "<style>\n",
              "  .colab-df-quickchart {\n",
              "      --bg-color: #E8F0FE;\n",
              "      --fill-color: #1967D2;\n",
              "      --hover-bg-color: #E2EBFA;\n",
              "      --hover-fill-color: #174EA6;\n",
              "      --disabled-fill-color: #AAA;\n",
              "      --disabled-bg-color: #DDD;\n",
              "  }\n",
              "\n",
              "  [theme=dark] .colab-df-quickchart {\n",
              "      --bg-color: #3B4455;\n",
              "      --fill-color: #D2E3FC;\n",
              "      --hover-bg-color: #434B5C;\n",
              "      --hover-fill-color: #FFFFFF;\n",
              "      --disabled-bg-color: #3B4455;\n",
              "      --disabled-fill-color: #666;\n",
              "  }\n",
              "\n",
              "  .colab-df-quickchart {\n",
              "    background-color: var(--bg-color);\n",
              "    border: none;\n",
              "    border-radius: 50%;\n",
              "    cursor: pointer;\n",
              "    display: none;\n",
              "    fill: var(--fill-color);\n",
              "    height: 32px;\n",
              "    padding: 0;\n",
              "    width: 32px;\n",
              "  }\n",
              "\n",
              "  .colab-df-quickchart:hover {\n",
              "    background-color: var(--hover-bg-color);\n",
              "    box-shadow: 0 1px 2px rgba(60, 64, 67, 0.3), 0 1px 3px 1px rgba(60, 64, 67, 0.15);\n",
              "    fill: var(--button-hover-fill-color);\n",
              "  }\n",
              "\n",
              "  .colab-df-quickchart-complete:disabled,\n",
              "  .colab-df-quickchart-complete:disabled:hover {\n",
              "    background-color: var(--disabled-bg-color);\n",
              "    fill: var(--disabled-fill-color);\n",
              "    box-shadow: none;\n",
              "  }\n",
              "\n",
              "  .colab-df-spinner {\n",
              "    border: 2px solid var(--fill-color);\n",
              "    border-color: transparent;\n",
              "    border-bottom-color: var(--fill-color);\n",
              "    animation:\n",
              "      spin 1s steps(1) infinite;\n",
              "  }\n",
              "\n",
              "  @keyframes spin {\n",
              "    0% {\n",
              "      border-color: transparent;\n",
              "      border-bottom-color: var(--fill-color);\n",
              "      border-left-color: var(--fill-color);\n",
              "    }\n",
              "    20% {\n",
              "      border-color: transparent;\n",
              "      border-left-color: var(--fill-color);\n",
              "      border-top-color: var(--fill-color);\n",
              "    }\n",
              "    30% {\n",
              "      border-color: transparent;\n",
              "      border-left-color: var(--fill-color);\n",
              "      border-top-color: var(--fill-color);\n",
              "      border-right-color: var(--fill-color);\n",
              "    }\n",
              "    40% {\n",
              "      border-color: transparent;\n",
              "      border-right-color: var(--fill-color);\n",
              "      border-top-color: var(--fill-color);\n",
              "    }\n",
              "    60% {\n",
              "      border-color: transparent;\n",
              "      border-right-color: var(--fill-color);\n",
              "    }\n",
              "    80% {\n",
              "      border-color: transparent;\n",
              "      border-right-color: var(--fill-color);\n",
              "      border-bottom-color: var(--fill-color);\n",
              "    }\n",
              "    90% {\n",
              "      border-color: transparent;\n",
              "      border-bottom-color: var(--fill-color);\n",
              "    }\n",
              "  }\n",
              "</style>\n",
              "\n",
              "  <script>\n",
              "    async function quickchart(key) {\n",
              "      const quickchartButtonEl =\n",
              "        document.querySelector('#' + key + ' button');\n",
              "      quickchartButtonEl.disabled = true;  // To prevent multiple clicks.\n",
              "      quickchartButtonEl.classList.add('colab-df-spinner');\n",
              "      try {\n",
              "        const charts = await google.colab.kernel.invokeFunction(\n",
              "            'suggestCharts', [key], {});\n",
              "      } catch (error) {\n",
              "        console.error('Error during call to suggestCharts:', error);\n",
              "      }\n",
              "      quickchartButtonEl.classList.remove('colab-df-spinner');\n",
              "      quickchartButtonEl.classList.add('colab-df-quickchart-complete');\n",
              "    }\n",
              "    (() => {\n",
              "      let quickchartButtonEl =\n",
              "        document.querySelector('#df-7d637c21-eb19-47d4-a6c1-ed7e50a8ae6f button');\n",
              "      quickchartButtonEl.style.display =\n",
              "        google.colab.kernel.accessAllowed ? 'block' : 'none';\n",
              "    })();\n",
              "  </script>\n",
              "</div>\n",
              "    </div>\n",
              "  </div>\n"
            ]
          },
          "metadata": {},
          "execution_count": 162
        }
      ]
    },
    {
      "cell_type": "markdown",
      "metadata": {
        "id": "4WAABQ8xkBV8"
      },
      "source": [
        "We are now going to using a well-known ML library called sklearn. If you do not have it installed, please do so using this instruction: https://scikit-learn.org/stable/install.html\n",
        "\n",
        "sklearn comes with many models already implemented, below we import the standard linear regression, Ridge, and Lasso models from sklearn. We also import a method that can divide our data into train/test sets. Please run the cell below."
      ]
    },
    {
      "cell_type": "code",
      "execution_count": null,
      "metadata": {
        "id": "sdXG25m_kBV9"
      },
      "outputs": [],
      "source": [
        "from sklearn.linear_model import LinearRegression, Ridge, Lasso\n",
        "from sklearn.model_selection import train_test_split"
      ]
    },
    {
      "cell_type": "markdown",
      "metadata": {
        "id": "L4uecmO2kBV9"
      },
      "source": [
        "This library is very easy to use. We briefly went over it in the class but please use the API and user guide  ( https://scikit-learn.org) to learn exactly how to use this library.\n",
        "\n",
        "For instance, learning a linear regression model using sklearn can be done in two lines:\n",
        "\n",
        "linearModel = LinearRegression()\n",
        "\n",
        "linearModel.fit(x_train, y_train)"
      ]
    },
    {
      "cell_type": "markdown",
      "metadata": {
        "id": "M8j2x8P8kBWM"
      },
      "source": [
        "Use the train_test_split to divide your modified data into 80% train, 20% test."
      ]
    },
    {
      "cell_type": "code",
      "execution_count": null,
      "metadata": {
        "id": "o8xS-wB4kBWM",
        "colab": {
          "base_uri": "https://localhost:8080/"
        },
        "outputId": "e8b0d54e-9a60-4bab-e2c1-b4d2906c6f46"
      },
      "outputs": [
        {
          "output_type": "stream",
          "name": "stdout",
          "text": [
            "(77162, 1)\n"
          ]
        }
      ],
      "source": [
        "X_train, X_test, y_train, y_test = train_test_split(X,y , random_state=1,  test_size=0.2)\n",
        "X_train_data = pd.get_dummies(X_train)#train\n",
        "X_test_data = pd.get_dummies(X_test)#test\n",
        "y_train_data= np.array([y_train]).transpose()\n",
        "y_test_data = np.array([y_test]).transpose()\n",
        "#print(X_train_data.head())\n",
        "print(y_train_data.shape)"
      ]
    },
    {
      "cell_type": "markdown",
      "metadata": {
        "id": "B_j-KBBtkBWM"
      },
      "source": [
        "Q12) **[8 points]**\n",
        "\n",
        "Use sklearn to train a LinearRegression model using the data above. Report the performance of the model on the test data (use sklearn's MSE implementation: https://scikit-learn.org/stable/modules/generated/sklearn.metrics.mean_squared_error.html). Note that the .predict method can be used to get the y_predictions for the test xs."
      ]
    },
    {
      "cell_type": "code",
      "execution_count": null,
      "metadata": {
        "id": "gq9QBuhFkBWN",
        "colab": {
          "base_uri": "https://localhost:8080/"
        },
        "outputId": "de89568b-6eed-4bfd-f703-ea22a6fd5142"
      },
      "outputs": [
        {
          "output_type": "execute_result",
          "data": {
            "text/plain": [
              "2.3118194062099745e+28"
            ]
          },
          "metadata": {},
          "execution_count": 165
        }
      ],
      "source": [
        "from sklearn.metrics import mean_squared_error\n",
        "y_train = np.array([y_train])\n",
        "y_test = np.array([y_test])\n",
        "linearModel = LinearRegression()\n",
        "linearModel.fit(X_train_data, y_train_data)\n",
        "lpredict = linearModel.predict(X_test_data)\n",
        "y_l = np.expm1(lpredict)\n",
        "mse = mean_squared_error(y_l, y_test_data)\n",
        "mse"
      ]
    },
    {
      "cell_type": "markdown",
      "metadata": {
        "id": "p1JSq3k2kBWN"
      },
      "source": [
        "Q13) **[7 points]**\n",
        "\n",
        "Repeat Q12 but instead of LinearRegression, use the Ridge and Lasso functions. You can keep the default alpha (note that what we called lambda in the class, the hyperparameter for regularization, is called alpha in sklearn. It is the same thing).\n",
        "\n",
        "Print the learned parameters for the Ridge and Lasso models (using .coef_). Note that the parameters below correspond to the feature vector ( [Apparent_Temperature, Humidity, Wind_Speed, Wind_Bearing, Visibility, Pressure]), in order. I.e., the first value corresponds to \"Apparent_Temperature\", etc. What is the difference between the ridge and lasso parameters? Which features, if any, have been eliminated by lasso?"
      ]
    },
    {
      "cell_type": "code",
      "execution_count": null,
      "metadata": {
        "id": "ymHn9lMlkBWN",
        "colab": {
          "base_uri": "https://localhost:8080/"
        },
        "outputId": "b3485fc7-fcfb-498d-9b62-2a6256ce8f5a"
      },
      "outputs": [
        {
          "output_type": "stream",
          "name": "stdout",
          "text": [
            "7.44980804896631e+27\n",
            "2.3112402665617153e+28\n"
          ]
        }
      ],
      "source": [
        "#Your code here\n",
        "from sklearn.linear_model import Lasso, Ridge\n",
        "y_train = np.array([y_train])\n",
        "y_test = np.array([y_test])\n",
        "LassoModel = Lasso()\n",
        "LassoModel.fit(X_train_data, y_train_data)\n",
        "lpredict1 = LassoModel.predict(X_test_data)\n",
        "y_lu = np.expm1(lpredict1)\n",
        "mse1 = mean_squared_error(y_lu, y_test_data)\n",
        "print(mse1)\n",
        "y_train = np.array([y_train])\n",
        "y_test = np.array([y_test])\n",
        "RidgeModel = Ridge()\n",
        "RidgeModel.fit(X_train_data, y_train_data)\n",
        "lpredict2 = RidgeModel.predict(X_test_data)\n",
        "y_r = np.expm1(lpredict2)\n",
        "mse2 = mean_squared_error(y_r, y_test_data)\n",
        "print(mse2)"
      ]
    },
    {
      "cell_type": "code",
      "source": [
        "print(RidgeModel.coef_)\n",
        "print(LassoModel.coef_)\n",
        "print(\"the ridge model has coefficient on every parameters, but the lasso model only uses 4 out of 6 parameters, and when comparing with ridge model, the coefficient of Apparent_Temperature seems to be more important\")\n",
        "print(\"the eliminated features are humidity and visibility\")"
      ],
      "metadata": {
        "colab": {
          "base_uri": "https://localhost:8080/"
        },
        "id": "hQam61tVCAi_",
        "outputId": "8b67dc73-c32b-4a06-9369-e872e38ae9a6"
      },
      "execution_count": null,
      "outputs": [
        {
          "output_type": "stream",
          "name": "stdout",
          "text": [
            "[[ 8.72387761e-01 -1.40658288e+00  8.02947850e-02 -4.12081107e-04\n",
            "   8.36868897e-03 -2.21495754e-04]]\n",
            "[ 8.79921250e-01 -0.00000000e+00  6.92550165e-02 -2.55969724e-04\n",
            "  0.00000000e+00 -1.68220998e-04]\n",
            "the ridge model has coefficient on every parameters, but the lasso model only uses 4 out of 6 parameters, and when comparing with ridge model, the coefficient of Apparent_Temperature seems to be more important\n",
            "the eliminated features are humidity and visibility\n"
          ]
        }
      ]
    }
  ],
  "metadata": {
    "colab": {
      "provenance": []
    },
    "kernelspec": {
      "display_name": "Python 3 (ipykernel)",
      "language": "python",
      "name": "python3"
    },
    "language_info": {
      "codemirror_mode": {
        "name": "ipython",
        "version": 3
      },
      "file_extension": ".py",
      "mimetype": "text/x-python",
      "name": "python",
      "nbconvert_exporter": "python",
      "pygments_lexer": "ipython3",
      "version": "3.8.12"
    }
  },
  "nbformat": 4,
  "nbformat_minor": 0
}